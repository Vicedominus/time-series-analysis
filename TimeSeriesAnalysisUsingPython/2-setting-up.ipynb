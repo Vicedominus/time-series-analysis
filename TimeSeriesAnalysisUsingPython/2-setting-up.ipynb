{
 "cells": [
  {
   "attachments": {},
   "cell_type": "markdown",
   "metadata": {},
   "source": [
    "1. go to https://www.anaconda.com/ and download\n",
    "2. anaconda comes with numpy and pandas\n",
    "3. install statsmodels, arch, matplotlib and seaborn\n"
   ]
  },
  {
   "cell_type": "code",
   "execution_count": null,
   "metadata": {},
   "outputs": [],
   "source": []
  }
 ],
 "metadata": {
  "kernelspec": {
   "display_name": "development",
   "language": "python",
   "name": "python3"
  },
  "language_info": {
   "name": "python",
   "version": "3.11.0 | packaged by conda-forge | (main, Oct 25 2022, 06:12:32) [MSC v.1929 64 bit (AMD64)]"
  },
  "orig_nbformat": 4,
  "vscode": {
   "interpreter": {
    "hash": "588a256bd067e338e8c2560fede081f8ce7f0d12108c74e82de0ceafd4daf836"
   }
  }
 },
 "nbformat": 4,
 "nbformat_minor": 2
}
